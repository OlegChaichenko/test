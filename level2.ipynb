{
 "cells": [
  {
   "cell_type": "code",
   "execution_count": 1,
   "metadata": {
    "collapsed": true
   },
   "outputs": [
    {
     "name": "stderr",
     "output_type": "stream",
     "text": [
      "C:\\Users\\олег\\AppData\\Local\\Programs\\Python\\Python310\\lib\\site-packages\\requests\\__init__.py:109: RequestsDependencyWarning: urllib3 (1.26.18) or chardet (5.2.0)/charset_normalizer (2.0.12) doesn't match a supported version!\n",
      "  warnings.warn(\n"
     ]
    }
   ],
   "source": [
    "import os\n",
    "from google.cloud import bigquery\n",
    "import pandas\n",
    "import gspread\n",
    "from oauth2client.service_account import ServiceAccountCredentials"
   ]
  },
  {
   "cell_type": "markdown",
   "source": [
    "SQL"
   ],
   "metadata": {
    "collapsed": false
   }
  },
  {
   "cell_type": "code",
   "execution_count": 2,
   "outputs": [],
   "source": [
    "sql_query = \"\"\"\n",
    "SELECT  totals\n",
    "FROM `bigquery-public-data.google_analytics_sample.ga_sessions_20170801`\n",
    "LIMIT 1000\n",
    "\"\"\"\n",
    "sql_query1=\"\"\"\n",
    "SELECT hits FROM `bigquery-public-data.google_analytics_sample.ga_sessions_20170801` LIMIT 1000\"\"\"\n"
   ],
   "metadata": {
    "collapsed": false
   }
  },
  {
   "cell_type": "code",
   "execution_count": 3,
   "outputs": [],
   "source": [
    "os.environ[\"GOOGLE_APPLICATION_CREDENTIALS\"] = 'integrated-ray-423413-s4-0f9aa9039914.json'\n",
    "\n",
    "\n",
    "client = bigquery.Client()\n"
   ],
   "metadata": {
    "collapsed": false
   }
  },
  {
   "cell_type": "code",
   "execution_count": 4,
   "outputs": [
    {
     "name": "stdout",
     "output_type": "stream",
     "text": [
      "      visits  hits  pageviews  bounces  newVisits  sessionQualityDim  \\\n",
      "hour                                                                   \n",
      "0         38    38         38       38       29.0                 38   \n",
      "1         31    31         31       31       25.0                 31   \n",
      "2         42    42         42       42       34.0                 42   \n",
      "3         41    41         41       41       33.0                 41   \n",
      "4         42    42         42       42       38.0                 42   \n",
      "5         53    53         53       53       43.0                 53   \n",
      "6         68    68         68       68       53.0                 69   \n",
      "7         46    46         46       46       35.0                 46   \n",
      "8         50    50         50       50       38.0                 50   \n",
      "9         31    31         31       31       26.0                 31   \n",
      "10        57    57         57       57       38.0                 58   \n",
      "11        50    50         50       50       40.0                 51   \n",
      "12        45    45         45       45       35.0                 45   \n",
      "13        37    37         37       37       30.0                 37   \n",
      "14        52    52         52       52       43.0                 54   \n",
      "15        46    46         46       46       33.0                 46   \n",
      "16        36    36         36       36       27.0                 36   \n",
      "17        23    23         23       23       17.0                 23   \n",
      "18        35    35         35       35       28.0                 35   \n",
      "19        33    33         33       33       28.0                 33   \n",
      "20        35    35         35       35       27.0                 35   \n",
      "21        28    28         28       28       21.0                 28   \n",
      "22        35    35         35       35       30.0                 35   \n",
      "23        46    46         46       46       37.0                 46   \n",
      "\n",
      "      hitNumber  time  minute  isInteraction  isEntrance  isExit  \n",
      "hour                                                              \n",
      "0            38     0    1280             38          38      38  \n",
      "1            31     0     936             31          31      31  \n",
      "2            42     0    1001             42          42      42  \n",
      "3            41     0    1355             41          41      41  \n",
      "4            42     0    1342             42          42      42  \n",
      "5            53     0    1269             53          53      53  \n",
      "6            68     0    2160             68          68      68  \n",
      "7            46     0    1362             46          46      46  \n",
      "8            50     0    1455             50          50      50  \n",
      "9            31     0     934             31          31      31  \n",
      "10           58     0    1641             57          57      57  \n",
      "11           50     0    1312             50          50      50  \n",
      "12           46     0    1132             45          45      45  \n",
      "13           37     0    1057             37          37      37  \n",
      "14           52     0    1519             52          52      52  \n",
      "15           46     0    1414             46          46      46  \n",
      "16           36     0    1037             36          36      36  \n",
      "17           23     0     657             23          23      23  \n",
      "18           35     0     921             35          35      35  \n",
      "19           33     0    1062             33          33      33  \n",
      "20           35     0    1034             35          35      35  \n",
      "21           28     0     795             28          28      28  \n",
      "22           35     0    1015             35          35      35  \n",
      "23           46     0    1706             46          46      46  \n"
     ]
    },
    {
     "data": {
      "text/plain": "{'spreadsheetId': '12LNs8dSOQMVswHpMCi3C0i72HV1s0utiIliq9c0i3LI',\n 'updatedRange': \"'Аркуш1'!A1:L25\",\n 'updatedRows': 25,\n 'updatedColumns': 12,\n 'updatedCells': 300}"
     },
     "execution_count": 4,
     "metadata": {},
     "output_type": "execute_result"
    }
   ],
   "source": [
    "query_job = client.query(sql_query)\n",
    "results = query_job.result()\n",
    "\n",
    "rows = []\n",
    "\n",
    "\n",
    "for i, row in enumerate(results):\n",
    "    data = row[0]\n",
    "    rows.append(data)\n",
    "\n",
    "\n",
    "df = pandas.DataFrame(rows)\n",
    "\n",
    "\n",
    "#print(df)\n",
    "\n",
    "\n",
    "\n",
    "query_job1 = client.query(sql_query1)\n",
    "results1 = query_job1.result()\n",
    "\n",
    "\n",
    "rows1 = []\n",
    "\n",
    "for j, row1 in enumerate(results1):\n",
    "    data = row1[0]\n",
    "    rows1.append(data)\n",
    "\n",
    "\n",
    "\n",
    "df1= pandas.DataFrame(rows1)\n",
    "\n",
    "\n",
    "df1 = pandas.DataFrame(df1.iloc[:,0].tolist())\n",
    "\n",
    "\n",
    "combined_df = pandas.concat([df, df1], axis=1)\n",
    "\n",
    "aggregated_visits_hits = combined_df.groupby([\"hour\"]).sum()\n",
    "\n",
    "print(aggregated_visits_hits )\n",
    "scope = [\"https://www.googleapis.com/auth/spreadsheets\", \"https://www.googleapis.com/auth/drive\"]\n",
    "credentials = ServiceAccountCredentials.from_json_keyfile_name('integrated-ray-423413-s4-0f9aa9039914.json', scope)\n",
    "gc = gspread.authorize(credentials)\n",
    "id='12LNs8dSOQMVswHpMCi3C0i72HV1s0utiIliq9c0i3LI'\n",
    "sheet = gc.open_by_key('12LNs8dSOQMVswHpMCi3C0i72HV1s0utiIliq9c0i3LI')\n",
    "\n",
    "\n",
    "data = [aggregated_visits_hits.columns.tolist()] + aggregated_visits_hits.values.tolist()\n",
    "\n",
    "\n",
    "worksheet = sheet.sheet1\n",
    "\n",
    "worksheet.update(range_name='A1', values=data)"
   ],
   "metadata": {
    "collapsed": false
   }
  }
 ],
 "metadata": {
  "kernelspec": {
   "display_name": "Python 3",
   "language": "python",
   "name": "python3"
  },
  "language_info": {
   "codemirror_mode": {
    "name": "ipython",
    "version": 2
   },
   "file_extension": ".py",
   "mimetype": "text/x-python",
   "name": "python",
   "nbconvert_exporter": "python",
   "pygments_lexer": "ipython2",
   "version": "2.7.6"
  }
 },
 "nbformat": 4,
 "nbformat_minor": 0
}
